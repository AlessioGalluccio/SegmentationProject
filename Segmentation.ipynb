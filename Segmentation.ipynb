{
  "nbformat": 4,
  "nbformat_minor": 0,
  "metadata": {
    "kernelspec": {
      "name": "python3",
      "display_name": "Python 3"
    },
    "language_info": {
      "codemirror_mode": {
        "name": "ipython",
        "version": 3
      },
      "file_extension": ".py",
      "mimetype": "text/x-python",
      "name": "python",
      "nbconvert_exporter": "python",
      "pygments_lexer": "ipython3",
      "version": "3.5.2"
    },
    "colab": {
      "name": "Segmentation.ipynb",
      "provenance": [],
      "collapsed_sections": [],
      "toc_visible": true
    },
    "accelerator": "GPU"
  },
  "cells": [
    {
      "cell_type": "code",
      "metadata": {
        "id": "USO3xlEIxrLs",
        "colab_type": "code",
        "outputId": "a07fbf4c-4d4e-48e2-f3d1-b6ea953ab54a",
        "colab": {
          "base_uri": "https://localhost:8080/",
          "height": 34
        }
      },
      "source": [
        "%tensorflow_version 2.x\n",
        "from IPython.core.interactiveshell import InteractiveShell\n",
        "InteractiveShell.ast_node_interactivity = \"all\""
      ],
      "execution_count": 1,
      "outputs": [
        {
          "output_type": "stream",
          "text": [
            "TensorFlow 2.x selected.\n"
          ],
          "name": "stdout"
        }
      ]
    },
    {
      "cell_type": "code",
      "metadata": {
        "id": "v83sgkjA09tT",
        "colab_type": "code",
        "outputId": "bb6a7e65-d7ef-4700-88f0-bfb71fb3a0c1",
        "colab": {
          "base_uri": "https://localhost:8080/",
          "height": 34
        }
      },
      "source": [
        "!git clone https://github.com/fabrizioschembari/Segmentation_Assignment.git"
      ],
      "execution_count": 2,
      "outputs": [
        {
          "output_type": "stream",
          "text": [
            "fatal: destination path 'Segmentation_Assignment' already exists and is not an empty directory.\n"
          ],
          "name": "stdout"
        }
      ]
    },
    {
      "cell_type": "code",
      "metadata": {
        "id": "k1_zYq5kxrL2",
        "colab_type": "code",
        "outputId": "41830ad5-a1be-44cf-bc3d-8955c2942210",
        "colab": {
          "base_uri": "https://localhost:8080/",
          "height": 34
        }
      },
      "source": [
        "import os\n",
        "\n",
        "# os.environ[\"CUDA_VISIBLE_DEVICES\"]=\"-1\" \n",
        "import tensorflow as tf\n",
        "import numpy as np\n",
        "\n",
        "# Set the seed for random operations. \n",
        "# This let our experiments to be reproducible. \n",
        "SEED = 1234\n",
        "tf.random.set_seed(SEED)  \n",
        "\n",
        "# Get current working directory\n",
        "cwd = os.getcwd()\n",
        "\n",
        "# Set GPU memory growth\n",
        "# Allows to only as much GPU memory as needed\n",
        "gpus = tf.config.experimental.list_physical_devices('GPU')\n",
        "if gpus:\n",
        "  try:\n",
        "    # Currently, memory growth needs to be the same across GPUs\n",
        "    for gpu in gpus:\n",
        "      tf.config.experimental.set_memory_growth(gpu, True)\n",
        "    logical_gpus = tf.config.experimental.list_logical_devices('GPU')\n",
        "    print(len(gpus), \"Physical GPUs,\", len(logical_gpus), \"Logical GPUs\")\n",
        "  except RuntimeError as e:\n",
        "    # Memory growth must be set before GPUs have been initialized\n",
        "    print(e)"
      ],
      "execution_count": 3,
      "outputs": [
        {
          "output_type": "stream",
          "text": [
            "1 Physical GPUs, 1 Logical GPUs\n"
          ],
          "name": "stdout"
        }
      ]
    },
    {
      "cell_type": "code",
      "metadata": {
        "id": "qdICgn6FsS-K",
        "colab_type": "code",
        "colab": {}
      },
      "source": [
        "def my_IoU(y_true, y_pred):\n",
        "    # from pobability to predicted class {0, 1}\n",
        "    y_pred = tf.cast(y_pred > 0.5, tf.float32) # when using sigmoid. Use argmax for softmax\n",
        "\n",
        "    # A and B\n",
        "    intersection = tf.reduce_sum(y_true * y_pred)\n",
        "    # A or B\n",
        "    union = tf.reduce_sum(y_true) + tf.reduce_sum(y_pred) - intersection\n",
        "    # IoU\n",
        "    return intersection / union"
      ],
      "execution_count": 0,
      "outputs": []
    },
    {
      "cell_type": "markdown",
      "metadata": {
        "id": "w1EC9FB5xrL8",
        "colab_type": "text"
      },
      "source": [
        "# Example: Image Segmentation\n",
        "## Oxford Pet Dataset"
      ]
    },
    {
      "cell_type": "markdown",
      "metadata": {
        "id": "yqmaNXePxrL9",
        "colab_type": "text"
      },
      "source": [
        "### Directory structure\n",
        "\n",
        "    - Pet_Dataset/\n",
        "        - training/\n",
        "            - images/\n",
        "                - img1, img2, …, imgN\n",
        "            - masks/ \n",
        "                - mask1, mask2, ... , maskN\n",
        "        - validation/\n",
        "            - images/\n",
        "                - img1, img2, …, imgN\n",
        "            - masks/ \n",
        "                - mask1, mask2, ... , maskN\n",
        "        - test/\n",
        "            - images/\n",
        "                - img1, img2, …, imgN\n",
        "            - masks/ \n",
        "                - mask1, mask2, ... , maskN"
      ]
    },
    {
      "cell_type": "code",
      "metadata": {
        "id": "uUL-MwA3xrL-",
        "colab_type": "code",
        "colab": {}
      },
      "source": [
        "# ImageDataGenerator\n",
        "# ------------------\n",
        "\n",
        "from tensorflow.keras.preprocessing.image import ImageDataGenerator\n",
        "\n",
        "apply_data_augmentation = False\n",
        "\n",
        "# Create training ImageDataGenerator object\n",
        "# We need two different generators for images and corresponding masks\n",
        "if apply_data_augmentation:\n",
        "    train_img_data_gen = ImageDataGenerator(rotation_range=10,\n",
        "                                            width_shift_range=10,\n",
        "                                            height_shift_range=10,\n",
        "                                            zoom_range=0.3,\n",
        "                                            horizontal_flip=True,\n",
        "                                            vertical_flip=True,\n",
        "                                            fill_mode='constant',\n",
        "                                            cval=0,\n",
        "                                            rescale=1./255)\n",
        "    train_mask_data_gen = ImageDataGenerator(rotation_range=10,\n",
        "                                             width_shift_range=10,\n",
        "                                             height_shift_range=10,\n",
        "                                             zoom_range=0.3,\n",
        "                                             horizontal_flip=True,\n",
        "                                             vertical_flip=True,\n",
        "                                             fill_mode='constant',\n",
        "                                             cval=0)\n",
        "else:\n",
        "    train_img_data_gen = ImageDataGenerator(rescale=1./255)\n",
        "    train_mask_data_gen = ImageDataGenerator()\n",
        "\n",
        "# Create validation and test ImageDataGenerator objects\n",
        "valid_img_data_gen = ImageDataGenerator(rescale=1./255)\n",
        "valid_mask_data_gen = ImageDataGenerator()\n",
        "test_img_data_gen = ImageDataGenerator(rescale=1./255)\n",
        "test_mask_data_gen = ImageDataGenerator()"
      ],
      "execution_count": 0,
      "outputs": []
    },
    {
      "cell_type": "code",
      "metadata": {
        "id": "OFBqnrDyxrMB",
        "colab_type": "code",
        "outputId": "63fdc28f-6d48-462f-abde-bbf7d767416b",
        "colab": {
          "base_uri": "https://localhost:8080/",
          "height": 68
        }
      },
      "source": [
        "# Create generators to read images from dataset directory\n",
        "# -------------------------------------------------------\n",
        "dataset_dir = os.path.join(cwd, 'Segmentation_Assignment/Segmentation_Dataset')\n",
        "\n",
        "# Batch size\n",
        "bs = 4\n",
        "\n",
        "# img shape\n",
        "img_h = 256\n",
        "img_w = 256\n",
        "\n",
        "#classes are \"background\" (0) and \"building\" (1)\n",
        "num_classes=2\n",
        "\n",
        "# Training\n",
        "# Two different generators for images and masks\n",
        "# ATTENTION: here the seed is important!! We have to give the same SEED to both the generator\n",
        "# to apply the same transformations/shuffling to images and corresponding masks\n",
        "training_dir = os.path.join(dataset_dir, 'training')\n",
        "train_img_gen = train_img_data_gen.flow_from_directory(os.path.join(training_dir, 'images'),\n",
        "                                                       target_size=(img_h, img_w),\n",
        "                                                       batch_size=bs, \n",
        "                                                       class_mode=None, # Because we have no class subfolders in this case\n",
        "                                                       shuffle=True,\n",
        "                                                       interpolation='bilinear',\n",
        "                                                       seed=SEED)  \n",
        "train_mask_gen = train_mask_data_gen.flow_from_directory(os.path.join(training_dir, 'masks'),\n",
        "                                                         target_size=(img_h, img_w),\n",
        "                                                         batch_size=bs,\n",
        "                                                         class_mode=None, # Because we have no class subfolders in this case\n",
        "                                                         shuffle=True,\n",
        "                                                         interpolation='bilinear',\n",
        "                                                         seed=SEED)\n",
        "train_gen = zip(train_img_gen, train_mask_gen)\n",
        "\n",
        "# Validation\n",
        "#validation_dir = os.path.join(dataset_dir, 'validation')\n",
        "#valid_img_gen = valid_img_data_gen.flow_from_directory(os.path.join(validation_dir, 'images'),\n",
        " #                                                      target_size=(img_h, img_w),\n",
        "  #                                                     batch_size=bs, \n",
        "   #                                                    class_mode=None, # Because we have no class subfolders in this case\n",
        "    #                                                   shuffle=False,\n",
        "     #                                                  interpolation='bilinear',\n",
        "      #                                                 seed=SEED)\n",
        "#valid_mask_gen = valid_mask_data_gen.flow_from_directory(os.path.join(validation_dir, 'masks'),\n",
        " #                                                        target_size=(img_h, img_w),\n",
        "  #                                                       batch_size=bs, \n",
        "   #                                                      class_mode=None, # Because we have no class subfolders in this case\n",
        "    #                                                     shuffle=False,\n",
        "     #                                                    interpolation='bilinear',\n",
        "      #                                                   seed=SEED)\n",
        "#valid_gen = zip(valid_img_gen, valid_mask_gen)\n",
        "\n",
        "# Test\n",
        "test_dir = os.path.join(dataset_dir, 'test')\n",
        "test_img_gen = test_img_data_gen.flow_from_directory(os.path.join(test_dir, 'images'),\n",
        "                                                     target_size=(img_h, img_w),\n",
        "                                                     batch_size=bs, \n",
        "                                                     class_mode=None, # Because we have no class subfolders in this case\n",
        "                                                     shuffle=False,\n",
        "                                                     interpolation='bilinear',\n",
        "                                                     seed=SEED)\n",
        "#test_mask_gen = test_mask_data_gen.flow_from_directory(os.path.join(test_dir, 'masks'),\n",
        " #                                                      target_size=(img_h, img_w),\n",
        "  #                                                     batch_size=bs, \n",
        "   #                                                    class_mode=None, # Because we have no class subfolders in this case\n",
        "    #                                                   shuffle=False,\n",
        "     #                                                  interpolation='bilinear',\n",
        "      #                                                 seed=SEED)\n",
        "#test_gen = zip(test_img_gen, test_mask_gen)"
      ],
      "execution_count": 9,
      "outputs": [
        {
          "output_type": "stream",
          "text": [
            "Found 7647 images belonging to 1 classes.\n",
            "Found 7647 images belonging to 1 classes.\n",
            "Found 1234 images belonging to 1 classes.\n"
          ],
          "name": "stdout"
        }
      ]
    },
    {
      "cell_type": "code",
      "metadata": {
        "id": "F3kfLxEFxrMD",
        "colab_type": "code",
        "colab": {}
      },
      "source": [
        "# Create Dataset objects\n",
        "# ----------------------\n",
        "\n",
        "# Training\n",
        "# --------\n",
        "train_dataset = tf.data.Dataset.from_generator(lambda: train_gen,\n",
        "                                               output_types=(tf.float32, tf.float32),\n",
        "                                               output_shapes=([None, img_h, img_w, 3], [None, img_h, img_w, 3]))\n",
        "\n",
        "def prepare_target(x_, y_):\n",
        "    y_ = tf.cast(tf.expand_dims(y_[..., 0], -1), tf.int32)\n",
        "    return x_, tf.where(y_ > 0, y_ - 1, y_ + 1)\n",
        "\n",
        "train_dataset = train_dataset.map(prepare_target)\n",
        "\n",
        "# Repeat\n",
        "train_dataset = train_dataset.repeat()\n",
        "\n",
        "# Validation\n",
        "# ----------\n",
        "valid_dataset = tf.data.Dataset.from_generator(lambda: valid_gen, \n",
        "                                               output_types=(tf.float32, tf.float32),\n",
        "                                               output_shapes=([None, img_h, img_w, 3], [None, img_h, img_w, 3]))\n",
        "valid_dataset = valid_dataset.map(prepare_target)\n",
        "\n",
        "# Repeat\n",
        "valid_dataset = valid_dataset.repeat()\n",
        "\n",
        "# Test\n",
        "# ----\n",
        "test_dataset = tf.data.Dataset.from_generator(lambda: test_gen,\n",
        "                                              output_types=(tf.float32, tf.float32),\n",
        "                                              output_shapes=([None, img_h, img_w, 3], [None, img_h, img_w, 3]))\n",
        "test_dataset = test_dataset.map(prepare_target)\n",
        "\n",
        "# Repeat\n",
        "test_dataset = test_dataset.repeat()"
      ],
      "execution_count": 0,
      "outputs": []
    },
    {
      "cell_type": "code",
      "metadata": {
        "id": "UTFBak0zxrMG",
        "colab_type": "code",
        "colab": {
          "base_uri": "https://localhost:8080/",
          "height": 1000
        },
        "outputId": "701576de-9886-4a7b-95b7-18daf044a0f6"
      },
      "source": [
        "%matplotlib inline\n",
        "\n",
        "import time\n",
        "import matplotlib.pyplot as plt\n",
        "from IPython.display import clear_output\n",
        "\n",
        "from PIL import Image\n",
        "\n",
        "# Cycle over test images\n",
        "\n",
        "#test_img_dir = os.path.join(test_dir, 'images', 'img')\n",
        "#test_mask_dir = os.path.join(test_dir, 'masks', 'img')\n",
        "\n",
        "################################################################################\n",
        "train_dir = os.path.join(dataset_dir, 'train')\n",
        "train_img_dir = os.path.join(train_dir, 'images', 'img')\n",
        "train_mask_dir = os.path.join(train_dir, 'masks', 'img')\n",
        "################################################################################\n",
        "\n",
        "img_filenames = next(os.walk(test_img_dir))[2]\n",
        "\n",
        "# plt.show()\n",
        "\n",
        "# Assign a color to each class\n",
        "colors_dict = {}\n",
        "colors_dict[0] = [255, 255, 255]   # foreground\n",
        "colors_dict[1] = [0, 0, 0]   # background\n",
        "colors_dict[2] = [0, 255, 0]   # contours\n",
        "\n",
        "\n",
        "for img_filename in img_filenames: \n",
        "    fig, ax = plt.subplots(1, 3, figsize=(16,16))\n",
        "    # mask_filename = img_filename[:-4] + '.png'\n",
        "    \n",
        "    img = Image.open(os.path.join(train_img_dir, img_filename))\n",
        "    # img = img.resize((128, 128))\n",
        "    mask = Image.open(os.path.join(train_mask_dir, img_filename))\n",
        "    # mask = mask.resize((128, 128))\n",
        "    \n",
        "    img_arr = np.expand_dims(np.array(img), 0)\n",
        "    \n",
        "    out_softmax = model.predict(x=img_arr)\n",
        "    \n",
        "    # Get predicted class as the index corresponding to the maximum value in the vector probability\n",
        "    predicted_class = tf.argmax(out_softmax, -1)\n",
        "    predicted_class = predicted_class[0]\n",
        "    \n",
        "    # target_img = np.expand_dims(np.array(mask), 0)\n",
        "    # target = np.expand_dims(np.array(mask), 0)\n",
        "    \n",
        "    target = np.array(mask) / 255\n",
        "    target -= 1    ## to get classes 0,1,2 instead of 1,2,3\n",
        "    \n",
        "    print(target.shape)\n",
        "    \n",
        "    # Assign colors (just for visualization)\n",
        "    target_img = np.zeros([target.shape[0], target.shape[1], 3])\n",
        "    prediction_img = np.zeros([target.shape[0], target.shape[1], 3])\n",
        "    \n",
        "    target_img[np.where(target == 0)] = colors_dict[0]\n",
        "    target_img[np.where(target == 1)] = colors_dict[1]\n",
        "    target_img[np.where(target == 2)] = colors_dict[2]\n",
        "    \n",
        "    prediction_img[np.where(predicted_class == 0)] = colors_dict[0]\n",
        "    prediction_img[np.where(predicted_class == 1)] = colors_dict[1]\n",
        "    prediction_img[np.where(predicted_class == 2)] = colors_dict[2]\n",
        "    \n",
        "    ax[0].imshow(np.uint8(img_arr[0, ...]))\n",
        "    ax[1].imshow(np.uint8(target_img))\n",
        "    ax[2].imshow(np.uint8(prediction_img))\n",
        "    \n",
        "    \n",
        "    fig.canvas.draw()\n",
        "    plt.show()\n",
        "    \n",
        "    time.sleep(1)"
      ],
      "execution_count": 15,
      "outputs": [
        {
          "output_type": "error",
          "ename": "FileNotFoundError",
          "evalue": "ignored",
          "traceback": [
            "\u001b[0;31m---------------------------------------------------------------------------\u001b[0m",
            "\u001b[0;31mFileNotFoundError\u001b[0m                         Traceback (most recent call last)",
            "\u001b[0;32m<ipython-input-15-8fd51b074e70>\u001b[0m in \u001b[0;36m<module>\u001b[0;34m()\u001b[0m\n\u001b[1;32m     30\u001b[0m     \u001b[0;31m# mask_filename = img_filename[:-4] + '.png'\u001b[0m\u001b[0;34m\u001b[0m\u001b[0;34m\u001b[0m\u001b[0;34m\u001b[0m\u001b[0m\n\u001b[1;32m     31\u001b[0m \u001b[0;34m\u001b[0m\u001b[0m\n\u001b[0;32m---> 32\u001b[0;31m     \u001b[0mimg\u001b[0m \u001b[0;34m=\u001b[0m \u001b[0mImage\u001b[0m\u001b[0;34m.\u001b[0m\u001b[0mopen\u001b[0m\u001b[0;34m(\u001b[0m\u001b[0mos\u001b[0m\u001b[0;34m.\u001b[0m\u001b[0mpath\u001b[0m\u001b[0;34m.\u001b[0m\u001b[0mjoin\u001b[0m\u001b[0;34m(\u001b[0m\u001b[0mtrain_img_dir\u001b[0m\u001b[0;34m,\u001b[0m \u001b[0mimg_filename\u001b[0m\u001b[0;34m)\u001b[0m\u001b[0;34m)\u001b[0m\u001b[0;34m\u001b[0m\u001b[0;34m\u001b[0m\u001b[0m\n\u001b[0m\u001b[1;32m     33\u001b[0m     \u001b[0;31m# img = img.resize((128, 128))\u001b[0m\u001b[0;34m\u001b[0m\u001b[0;34m\u001b[0m\u001b[0;34m\u001b[0m\u001b[0m\n\u001b[1;32m     34\u001b[0m     \u001b[0mmask\u001b[0m \u001b[0;34m=\u001b[0m \u001b[0mImage\u001b[0m\u001b[0;34m.\u001b[0m\u001b[0mopen\u001b[0m\u001b[0;34m(\u001b[0m\u001b[0mos\u001b[0m\u001b[0;34m.\u001b[0m\u001b[0mpath\u001b[0m\u001b[0;34m.\u001b[0m\u001b[0mjoin\u001b[0m\u001b[0;34m(\u001b[0m\u001b[0mtrain_mask_dir\u001b[0m\u001b[0;34m,\u001b[0m \u001b[0mimg_filename\u001b[0m\u001b[0;34m)\u001b[0m\u001b[0;34m)\u001b[0m\u001b[0;34m\u001b[0m\u001b[0;34m\u001b[0m\u001b[0m\n",
            "\u001b[0;32m/usr/local/lib/python3.6/dist-packages/PIL/Image.py\u001b[0m in \u001b[0;36mopen\u001b[0;34m(fp, mode)\u001b[0m\n\u001b[1;32m   2528\u001b[0m \u001b[0;34m\u001b[0m\u001b[0m\n\u001b[1;32m   2529\u001b[0m     \u001b[0;32mif\u001b[0m \u001b[0mfilename\u001b[0m\u001b[0;34m:\u001b[0m\u001b[0;34m\u001b[0m\u001b[0;34m\u001b[0m\u001b[0m\n\u001b[0;32m-> 2530\u001b[0;31m         \u001b[0mfp\u001b[0m \u001b[0;34m=\u001b[0m \u001b[0mbuiltins\u001b[0m\u001b[0;34m.\u001b[0m\u001b[0mopen\u001b[0m\u001b[0;34m(\u001b[0m\u001b[0mfilename\u001b[0m\u001b[0;34m,\u001b[0m \u001b[0;34m\"rb\"\u001b[0m\u001b[0;34m)\u001b[0m\u001b[0;34m\u001b[0m\u001b[0;34m\u001b[0m\u001b[0m\n\u001b[0m\u001b[1;32m   2531\u001b[0m         \u001b[0mexclusive_fp\u001b[0m \u001b[0;34m=\u001b[0m \u001b[0;32mTrue\u001b[0m\u001b[0;34m\u001b[0m\u001b[0;34m\u001b[0m\u001b[0m\n\u001b[1;32m   2532\u001b[0m \u001b[0;34m\u001b[0m\u001b[0m\n",
            "\u001b[0;31mFileNotFoundError\u001b[0m: [Errno 2] No such file or directory: '/content/Segmentation_Assignment/Segmentation_Dataset/train/images/img/2873.tif'"
          ]
        },
        {
          "output_type": "display_data",
          "data": {
            "image/png": "[encoded data removed]",
            "text/plain": [
              "<Figure size 1152x1152 with 3 Axes>"
            ]
          },
          "metadata": {
            "tags": []
          }
        }
      ]
    },
    {
      "cell_type": "code",
      "metadata": {
        "id": "NPQ9sE4RxrMI",
        "colab_type": "code",
        "colab": {}
      },
      "source": [
        "np.unique(target_img)\n"
      ],
      "execution_count": 0,
      "outputs": []
    },
    {
      "cell_type": "markdown",
      "metadata": {
        "id": "Q03JUirdxrML",
        "colab_type": "text"
      },
      "source": [
        "## Convolutional Neural Network (CNN)\n",
        "### Encoder-Decoder"
      ]
    },
    {
      "cell_type": "code",
      "metadata": {
        "id": "7AY8h8scxrMM",
        "colab_type": "code",
        "colab": {}
      },
      "source": [
        "# Create Model\n",
        "# ------------\n",
        "\n",
        "def create_model(depth, start_f, num_classes, dynamic_input_shape):\n",
        "\n",
        "    model = tf.keras.Sequential()\n",
        "    \n",
        "    # Encoder\n",
        "    # -------\n",
        "    for i in range(depth):\n",
        "        \n",
        "        if i == 0:\n",
        "            if dynamic_input_shape:\n",
        "                input_shape = [None, None, 3]\n",
        "            else:\n",
        "                input_shape = [img_h, img_w, 3]\n",
        "        else:\n",
        "            input_shape=[None]\n",
        "        \n",
        "        model.add(tf.keras.layers.Conv2D(filters=start_f, \n",
        "                                         kernel_size=(3, 3),\n",
        "                                         strides=(1, 1),\n",
        "                                         padding='same',\n",
        "                                         input_shape=input_shape))\n",
        "        model.add(tf.keras.layers.ReLU())\n",
        "        model.add(tf.keras.layers.MaxPool2D(pool_size=(2, 2)))\n",
        "\n",
        "        start_f *= 2\n",
        "\n",
        "    # Decoder\n",
        "    # -------\n",
        "    for i in range(depth):\n",
        "        model.add(tf.keras.layers.UpSampling2D(2, interpolation='bilinear'))\n",
        "        model.add(tf.keras.layers.Conv2D(filters=start_f // 2,\n",
        "                                         kernel_size=(3, 3),\n",
        "                                         strides=(1, 1),\n",
        "                                         padding='same'))\n",
        "\n",
        "        model.add(tf.keras.layers.ReLU())\n",
        "\n",
        "        start_f = start_f // 2\n",
        "\n",
        "    # Prediction Layer\n",
        "    # ----------------\n",
        "    model.add(tf.keras.layers.Conv2D(filters=num_classes,\n",
        "                                     kernel_size=(1, 1),\n",
        "                                     strides=(1, 1),\n",
        "                                     padding='same',\n",
        "                                     activation='softmax'))\n",
        "    \n",
        "    return model"
      ],
      "execution_count": 0,
      "outputs": []
    },
    {
      "cell_type": "code",
      "metadata": {
        "scrolled": true,
        "id": "-EzMr76AxrMO",
        "colab_type": "code",
        "colab": {}
      },
      "source": [
        "model = create_model(depth=4, \n",
        "                     start_f=4, \n",
        "                     num_classes=3, \n",
        "                     dynamic_input_shape=False)\n",
        "\n",
        "# Visualize created model as a table\n",
        "model.summary()\n",
        "\n",
        "# Visualize initialized weights\n",
        "model.weights"
      ],
      "execution_count": 0,
      "outputs": []
    },
    {
      "cell_type": "markdown",
      "metadata": {
        "id": "-AlGsdF3xrMR",
        "colab_type": "text"
      },
      "source": [
        "## Prepare the model for training"
      ]
    },
    {
      "cell_type": "code",
      "metadata": {
        "id": "ma3bct7PxrMS",
        "colab_type": "code",
        "colab": {}
      },
      "source": [
        "# Optimization params\n",
        "# -------------------\n",
        "\n",
        "# Loss\n",
        "# Sparse Categorical Crossentropy to use integers (mask) instead of one-hot encoded labels\n",
        "loss = tf.keras.losses.SparseCategoricalCrossentropy(from_logits=False) \n",
        "# learning rate\n",
        "lr = 1e-3\n",
        "optimizer = tf.keras.optimizers.Adam(learning_rate=lr)\n",
        "# -------------------\n",
        "\n",
        "# Validation metrics\n",
        "# ------------------\n",
        "\n",
        "#metrics = ['accuracy']\n",
        "metrics = ['my_IoU']\n",
        "# ------------------\n",
        "\n",
        "# Compile Model\n",
        "model.compile(optimizer=optimizer, loss=loss, metrics=metrics)"
      ],
      "execution_count": 0,
      "outputs": []
    },
    {
      "cell_type": "markdown",
      "metadata": {
        "id": "Gh1t5tIOxrMU",
        "colab_type": "text"
      },
      "source": [
        "## Training with callbacks"
      ]
    },
    {
      "cell_type": "code",
      "metadata": {
        "scrolled": true,
        "id": "x1nKktg_xrMV",
        "colab_type": "code",
        "colab": {}
      },
      "source": [
        "import os\n",
        "from datetime import datetime\n",
        "\n",
        "# from tensorflow.compat.v1 import ConfigProto\n",
        "# from tensorflow.compat.v1 import InteractiveSession\n",
        "\n",
        "# config = ConfigProto()\n",
        "# config.gpu_options.allow_growth = True\n",
        "# session = InteractiveSession(config=config)\n",
        "\n",
        "cwd = os.getcwd()\n",
        "\n",
        "exps_dir = os.path.join(cwd, 'segmentation_experiments')\n",
        "if not os.path.exists(exps_dir):\n",
        "    os.makedirs(exps_dir)\n",
        "\n",
        "now = datetime.now().strftime('%b%d_%H-%M-%S')\n",
        "\n",
        "model_name = 'CNN'\n",
        "\n",
        "exp_dir = os.path.join(exps_dir, model_name + '_' + str(now))\n",
        "if not os.path.exists(exp_dir):\n",
        "    os.makedirs(exp_dir)\n",
        "    \n",
        "callbacks = []\n",
        "\n",
        "# Model checkpoint\n",
        "# ----------------\n",
        "ckpt_dir = os.path.join(exp_dir, 'ckpts')\n",
        "if not os.path.exists(ckpt_dir):\n",
        "    os.makedirs(ckpt_dir)\n",
        "\n",
        "ckpt_callback = tf.keras.callbacks.ModelCheckpoint(filepath=os.path.join(ckpt_dir, 'cp_{epoch:02d}.ckpt'), \n",
        "                                                   save_weights_only=True)  # False to save the model directly\n",
        "callbacks.append(ckpt_callback)\n",
        "\n",
        "# Visualize Learning on Tensorboard\n",
        "# ---------------------------------\n",
        "tb_dir = os.path.join(exp_dir, 'tb_logs')\n",
        "if not os.path.exists(tb_dir):\n",
        "    os.makedirs(tb_dir)\n",
        "    \n",
        "# By default shows losses and metrics for both training and validation\n",
        "tb_callback = tf.keras.callbacks.TensorBoard(log_dir=tb_dir,\n",
        "                                             profile_batch=0,\n",
        "                                             histogram_freq=0)  # if 1 shows weights histograms\n",
        "callbacks.append(tb_callback)\n",
        "\n",
        "# Early Stopping\n",
        "# --------------\n",
        "early_stop = False\n",
        "if early_stop:\n",
        "    es_callback = tf.keras.callback.EarlyStopping(monitor='val_loss', patience=10)\n",
        "    callbacks.append(es_callback)\n",
        "\n",
        "\n",
        "model.fit(x=train_dataset,\n",
        "          epochs=100,  #### set repeat in training dataset\n",
        "          steps_per_epoch=len(train_img_gen),\n",
        "          validation_data=valid_dataset,\n",
        "          validation_steps=len(valid_img_gen), \n",
        "          callbacks=callbacks)\n",
        "\n",
        "# How to visualize Tensorboard\n",
        "\n",
        "# 1. tensorboard --logdir EXPERIMENTS_DIR --port PORT     <- from terminal\n",
        "# 2. localhost:PORT   <- in your browser"
      ],
      "execution_count": 0,
      "outputs": []
    },
    {
      "cell_type": "markdown",
      "metadata": {
        "id": "dg1z1sg8xrMX",
        "colab_type": "text"
      },
      "source": [
        "## Test model"
      ]
    },
    {
      "cell_type": "code",
      "metadata": {
        "id": "Hemk03FmxrMY",
        "colab_type": "code",
        "colab": {}
      },
      "source": [
        "# Just for exercise try to restore a model after training it\n",
        "# !! Use this just when restoring model.. \n",
        "# ---------------------------------------\n",
        "restore_model = True\n",
        "if restore_model:\n",
        "    model = create_model(depth=4, \n",
        "                         start_f=4, \n",
        "                         num_classes=3, \n",
        "                         dynamic_input_shape=True)\n",
        "\n",
        "    model.compile(loss=tf.keras.losses.SparseCategoricalCrossentropy(from_logits=False), \n",
        "                  metrics=['accuracy'])  # Needed for loading weights\n",
        "\n",
        "    model.load_weights(os.path.join(\n",
        "        cwd, 'segmentation_experiments', 'EXP_FOLDER', 'ckpts', 'cp_60.ckpt'))  # use this if you want to restore saved model\n",
        "# ----------------------------------------\n",
        "\n",
        "eval_out = model.evaluate(x=test_dataset,\n",
        "                          steps=len(test_img_gen),\n",
        "                          verbose=0)\n",
        "\n",
        "eval_out"
      ],
      "execution_count": 0,
      "outputs": []
    },
    {
      "cell_type": "markdown",
      "metadata": {
        "id": "wFrtOpFUxrMa",
        "colab_type": "text"
      },
      "source": [
        "## Compute prediction"
      ]
    },
    {
      "cell_type": "code",
      "metadata": {
        "scrolled": false,
        "id": "YfvAUicdxrMb",
        "colab_type": "code",
        "colab": {}
      },
      "source": [
        "import time\n",
        "import matplotlib.pyplot as plt\n",
        "\n",
        "from PIL import Image\n",
        "\n",
        "%matplotlib notebook\n",
        "\n",
        "# Cycle over test images\n",
        "\n",
        "test_img_dir = os.path.join(test_dir, 'images', 'img')\n",
        "test_mask_dir = os.path.join(test_dir, 'masks', 'img')\n",
        "\n",
        "img_filenames = next(os.walk(test_img_dir))[2]\n",
        "\n",
        "fig, ax = plt.subplots(1, 3, figsize=(8, 8))\n",
        "fig.show()\n",
        "\n",
        "# Assign a color to each class\n",
        "colors_dict = {}\n",
        "colors_dict[0] = [252, 186, 3]  # foreground\n",
        "colors_dict[1] = [0, 0, 0]      # background\n",
        "colors_dict[2] = [3, 82, 252]   # contours\n",
        "\n",
        "for img_filename in img_filenames:\n",
        "    \n",
        "    mask_filename = img_filename[:-4] + '.png'\n",
        "    \n",
        "    img = Image.open(os.path.join(test_img_dir, img_filename))\n",
        "    img = img.resize((128, 128))\n",
        "    mask = Image.open(os.path.join(test_mask_dir, mask_filename))\n",
        "    mask = mask.resize((128, 128))\n",
        "    \n",
        "    img_arr = np.expand_dims(np.array(img), 0)\n",
        "    \n",
        "    out_softmax = model.predict(x=img_arr / 255.)\n",
        "    \n",
        "    # Get predicted class as the index corresponding to the maximum value in the vector probability\n",
        "    predicted_class = tf.argmax(out_softmax, -1)\n",
        "    predicted_class = predicted_class[0]\n",
        "    \n",
        "    target = np.array(mask)\n",
        "    target -= 1    ## to get classes 0,1,2 instead of 1,2,3\n",
        "    \n",
        "    print(target.shape)\n",
        "    \n",
        "    # Assign colors (just for visualization)\n",
        "    target_img = np.zeros([target.shape[0], target.shape[1], 3])\n",
        "    prediction_img = np.zeros([target.shape[0], target.shape[1], 3])\n",
        "    \n",
        "    target_img[np.where(target == 0)] = colors_dict[0]\n",
        "    target_img[np.where(target == 1)] = colors_dict[1]\n",
        "    target_img[np.where(target == 2)] = colors_dict[2]\n",
        "    \n",
        "    prediction_img[np.where(predicted_class == 0)] = colors_dict[0]\n",
        "    prediction_img[np.where(predicted_class == 1)] = colors_dict[1]\n",
        "    prediction_img[np.where(predicted_class == 2)] = colors_dict[2]\n",
        "    \n",
        "    ax[0].imshow(np.uint8(img_arr[0, ...]))\n",
        "    ax[1].imshow(np.uint8(target_img))\n",
        "    ax[2].imshow(np.uint8(prediction_img))\n",
        "    \n",
        "    fig.canvas.draw()\n",
        "    time.sleep(1)"
      ],
      "execution_count": 0,
      "outputs": []
    },
    {
      "cell_type": "code",
      "metadata": {
        "id": "9y_73i2Tn5LH",
        "colab_type": "code",
        "colab": {}
      },
      "source": [
        "import os\n",
        "from datetime import datetime\n",
        "\n",
        "def create_csv(results, results_dir='./'):\n",
        "\n",
        "    csv_fname = 'results_'\n",
        "    csv_fname += datetime.now().strftime('%b%d_%H-%M-%S') + '.csv'\n",
        "\n",
        "    with open(csv_fname, 'w') as f:\n",
        "\n",
        "      f.write('ImageId,EncodedPixels,Width,Height\\n')\n",
        "\n",
        "      for key, value in results.items():\n",
        "          f.write(key + ',' + str(value) + ',' + '256' + ',' + '256' + '\\n')\n"
      ],
      "execution_count": 0,
      "outputs": []
    },
    {
      "cell_type": "code",
      "metadata": {
        "id": "QYNVjY9loQRO",
        "colab_type": "code",
        "colab": {}
      },
      "source": [
        "def rle_encode(img):\n",
        "      # Flatten column-wise\n",
        "      pixels = img.T.flatten()\n",
        "      pixels = np.concatenate([[0], pixels, [0]])\n",
        "      runs = np.where(pixels[1:] != pixels[:-1])[0] + 1\n",
        "      runs[1::2] -= runs[::2]\n",
        "      return ' '.join(str(x) for x in runs)"
      ],
      "execution_count": 0,
      "outputs": []
    },
    {
      "cell_type": "code",
      "metadata": {
        "id": "XZUSOV55oRMz",
        "colab_type": "code",
        "colab": {}
      },
      "source": [
        ""
      ],
      "execution_count": 0,
      "outputs": []
    }
  ]
}